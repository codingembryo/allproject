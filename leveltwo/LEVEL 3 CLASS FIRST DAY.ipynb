{
 "cells": [
  {
   "cell_type": "code",
   "execution_count": 3,
   "id": "5fd17bd3",
   "metadata": {},
   "outputs": [
    {
     "data": {
      "text/plain": [
       "5"
      ]
     },
     "execution_count": 3,
     "metadata": {},
     "output_type": "execute_result"
    }
   ],
   "source": []
  },
  {
   "cell_type": "code",
   "execution_count": 1,
   "id": "f03aa321",
   "metadata": {
    "scrolled": true
   },
   "outputs": [
    {
     "name": "stdout",
     "output_type": "stream",
     "text": [
      "Hello World\n"
     ]
    }
   ],
   "source": [
    "print(\"Hello World\")"
   ]
  },
  {
   "cell_type": "markdown",
   "id": "503cd8f7",
   "metadata": {},
   "source": [
    "    print(\"Hello Embryo\")"
   ]
  },
  {
   "cell_type": "markdown",
   "id": "80238184",
   "metadata": {},
   "source": [
    "# NUMPY CLASS"
   ]
  },
  {
   "cell_type": "code",
   "execution_count": null,
   "id": "f769e9aa",
   "metadata": {},
   "outputs": [],
   "source": []
  },
  {
   "cell_type": "code",
   "execution_count": null,
   "id": "36c61665",
   "metadata": {},
   "outputs": [],
   "source": []
  },
  {
   "cell_type": "code",
   "execution_count": 15,
   "id": "eea3b24a",
   "metadata": {},
   "outputs": [],
   "source": [
    "def embryo():\n",
    "    print(\"Hello World\")\n",
    "    \n",
    "def balance():\n",
    "    name = input(\"Enter your first name\")\n",
    "    city = input(\"Enter your city\")\n",
    "    phone = int(input(\"Enter your phone number\"))"
   ]
  },
  {
   "cell_type": "code",
   "execution_count": 16,
   "id": "a4059c56",
   "metadata": {},
   "outputs": [
    {
     "name": "stdout",
     "output_type": "stream",
     "text": [
      "Hello World\n",
      "Enter your first namebola\n",
      "Enter your cityibadan\n",
      "Enter your phone number080556122334\n"
     ]
    }
   ],
   "source": [
    "embryo()\n",
    "balance()"
   ]
  },
  {
   "cell_type": "code",
   "execution_count": null,
   "id": "972e9f01",
   "metadata": {},
   "outputs": [],
   "source": []
  }
 ],
 "metadata": {
  "kernelspec": {
   "display_name": "Python 3 (ipykernel)",
   "language": "python",
   "name": "python3"
  },
  "language_info": {
   "codemirror_mode": {
    "name": "ipython",
    "version": 3
   },
   "file_extension": ".py",
   "mimetype": "text/x-python",
   "name": "python",
   "nbconvert_exporter": "python",
   "pygments_lexer": "ipython3",
   "version": "3.9.12"
  }
 },
 "nbformat": 4,
 "nbformat_minor": 5
}
