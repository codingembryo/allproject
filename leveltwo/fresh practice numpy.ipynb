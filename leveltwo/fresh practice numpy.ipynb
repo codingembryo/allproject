{
 "cells": [
  {
   "cell_type": "code",
   "execution_count": null,
   "id": "eb6a41ad",
   "metadata": {},
   "outputs": [],
   "source": []
  },
  {
   "cell_type": "code",
   "execution_count": 209,
   "id": "a5391343",
   "metadata": {},
   "outputs": [],
   "source": [
    "import numpy as np"
   ]
  },
  {
   "cell_type": "code",
   "execution_count": 283,
   "id": "1f93fc9d",
   "metadata": {},
   "outputs": [
    {
     "name": "stdout",
     "output_type": "stream",
     "text": [
      "[1, 4]\n"
     ]
    }
   ],
   "source": [
    "# ALL ZEROS\n",
    "# np.zeros((2, 3, 3, 2))\n",
    "\n",
    "# new = np.arange(1,31)\n",
    "# new = np.reshape(5, 6)\n",
    "# print(new)\n",
    "\n",
    "# a = new.reshape((5, 6))\n",
    "# print(a)\n",
    "\n",
    "\n"
   ]
  },
  {
   "cell_type": "code",
   "execution_count": null,
   "id": "47b8f56a",
   "metadata": {},
   "outputs": [],
   "source": [
    "# a1 = np.array([[1,2,3,4,5],\n",
    "#              [6,7,8,9,10]])\n",
    "\n",
    "\n",
    "# a2 = np.array([[11,12,13,14,15],\n",
    "#              [16,17,18,19,20]])\n",
    "\n",
    "# a = np.concatenate((a1, a2), axis=1)\n",
    "\n",
    "# print(a)\n",
    "\n",
    "\n",
    "\n",
    "# print(a.reshape((2, 2, 5)))\n",
    "# print(a.reshape((2, 5, 2)))\n",
    "# print(a.reshape((5, 2, 2)))\n",
    "\n",
    "# a = a.reshape(5, 4)\n",
    "# a.resize(2,10)\n",
    "# print(a)\n",
    "\n",
    "# print(a.flatten())\n",
    "# print(a.ravel())\n",
    "\n",
    "# var1 = a.flatten()\n",
    "\n",
    "#TRANSPOSING\n",
    "# print(a.T)\n",
    "# print(a.swapaxes(0, 1))\n",
    "\n",
    "# a = np.array([[1,2,3,4,5],\n",
    "#              [6,7,8,9,10],\n",
    "#              [11,12,13,14,15],\n",
    "#              [16,17,18,19,20]])\n",
    "\n",
    "# a = np.concatenate((a1, a2), axis=1)\n",
    "\n",
    "# print(np.split(a,2, axis=0))\n",
    "# print(a.min())\n",
    "# print(a.max())\n",
    "# print(a.mean())\n",
    "# print(a.std())\n",
    "# print(a.sum())\n",
    "# print(np.median(a))\n",
    "\n",
    "# RANDOM ARRAYS\n",
    "# numbers = np.random.randint(90, 100, size=(2,3,4))\n",
    "# print(numbers)\n",
    "\n",
    "# numbers = np.random.normal(loc=170, scale=15, size=(5, 10))\n",
    "# print(numbers)\n",
    "\n",
    "# numbers = np.random.choice([10,20,30,40,50], size=(5, 10))\n",
    "# print(numbers)\n",
    "\n",
    "# a = np.array([[40, 50, 50, 30, 10, 10, 50, 10],\n",
    "#               [40, 50, 50, 30, 10, 10, 50, 10],\n",
    "#              [40, 50, 50, 30, 10, 10, 50, 10],\n",
    "#              [40, 50, 50, 30, 10, 10, 50, 10],\n",
    "#              [40, 50, 50, 30, 10, 10, 50, 10]])\n",
    "\n",
    "# a = a.reshape(4, 10)\n",
    "\n",
    "# print(a)\n",
    "\n",
    "# np.save(\"myarray.npy\", a)\n",
    "\n",
    "# a = np.load(\"myarray.npy\")\n",
    "# print(a)\n",
    "\n",
    "# np.savetxt(\"myarray.csv\", a, delimiter=\" ,\")\n",
    "\n",
    "\n",
    "# a = np.loadtxt(\"myarray.csv\", delimiter=\",\")\n",
    "               \n",
    "# print(a)\n",
    "\n",
    "\n",
    "\n",
    "\n",
    "\n",
    "\n",
    "\n"
   ]
  },
  {
   "cell_type": "code",
   "execution_count": null,
   "id": "4479cf4f",
   "metadata": {},
   "outputs": [],
   "source": []
  },
  {
   "cell_type": "code",
   "execution_count": 197,
   "id": "0455d30d",
   "metadata": {},
   "outputs": [
    {
     "name": "stdout",
     "output_type": "stream",
     "text": [
      "[-1.  -0.5  0.   0.5  1.   1.5  2.   2.5  3.   3.5  4.   4.5  5.   5.5\n",
      "  6.   6.5  7.   7.5  8.   8.5  9. ]\n",
      "<class 'numpy.ndarray'>\n"
     ]
    }
   ],
   "source": [
    "#stop value np.arange(stop)\n",
    "np.arange(8)\n",
    "my_array = np.arange(8)\n",
    "my_array = np.arange(1,8)\n",
    "my_array = np.arange(-1, 9.25, 0.5)\n",
    "\n",
    "print(my_array)\n",
    "print(type(my_array))"
   ]
  },
  {
   "cell_type": "code",
   "execution_count": 180,
   "id": "ccc604f9",
   "metadata": {},
   "outputs": [
    {
     "name": "stdout",
     "output_type": "stream",
     "text": [
      "<class 'numpy.int8'>\n"
     ]
    }
   ],
   "source": [
    "#array from list(FOR MEMORY EFFICIENCY)\n",
    "#A BOOLEAN TAKES LESSER SPACE THAN STRINGS. A BOOLEAN is either true or false.\n",
    "#BOOLEAN....Either TRUE or FALSE\n",
    "#A STRING--either of 26 lowercase char,or 26 uppercase char,either of 10 digits\n",
    "#either of 10+ punctuation symbols. Over 70 options\n",
    "from_list = np.array([1,2,3],dtype=np.int8)\n",
    "print(type(from_list[0]))\n",
    "\n",
    "\n"
   ]
  },
  {
   "cell_type": "code",
   "execution_count": 38,
   "id": "72eb6aec",
   "metadata": {
    "scrolled": true
   },
   "outputs": [
    {
     "name": "stdout",
     "output_type": "stream",
     "text": [
      "[[[0 2]\n",
      "  [4 6]]\n",
      "\n",
      " [[1 3]\n",
      "  [5 7]]]\n",
      "2D shape: (2, 2, 2)\n"
     ]
    }
   ],
   "source": [
    "#ROWS AND COLMUNS DATA(TWO DIMENSIONAL ARRAY)\n",
    "from_list = np.array([[1,2,3],[4,5,6]],dtype=np.int8)\n",
    "#print(from_list)\n",
    "array_2d = np.array((np.arange(0,8,2), np.arange(1,8,2)))\n",
    "array_2d = array_2d.reshape((2, 2, 2)) \n",
    "print(array_2d)\n",
    "#print(\"1D shape:\", my_array.shape)\n",
    "print(\"2D shape:\", array_2d.shape)\n",
    "# print(array_2d)\n"
   ]
  },
  {
   "cell_type": "code",
   "execution_count": 70,
   "id": "4ea243a9",
   "metadata": {},
   "outputs": [
    {
     "name": "stdout",
     "output_type": "stream",
     "text": [
      "[[[2.]\n",
      "  [4.]\n",
      "  [2.]]\n",
      "\n",
      " [[4.]\n",
      "  [4.]\n",
      "  [3.]]\n",
      "\n",
      " [[4.]\n",
      "  [9.]\n",
      "  [3.]]] \n",
      "\n",
      "[[2. 4. 2.]\n",
      " [4. 4. 3.]\n",
      " [4. 9. 3.]]\n"
     ]
    }
   ],
   "source": [
    "#NUMPY HAS 3 DIFF FUNCT TO CREATE EMPTY ARRAYS\n",
    "#FIRST IS np.zero\n",
    "empty_array = np.zeros((2,2))\n",
    "#print(empty_array)\n",
    "\n",
    "#SECOND IS \n",
    "empty_array = np.ones((2,2))\n",
    "\n",
    "#print(empty_array)\n",
    "\n",
    "\n",
    "#THIRD IS np.empty\n",
    "#EMPTY RETURNS RANDOMS VALUES\n",
    "empty_array = np.empty((2, 2, 2))\n",
    "#print(empty_array)\n",
    "\n",
    "#ANOTHER TYPE OF ARRAY IS NP.EYE\\\n",
    "#THIS CAN ALSO BE MANIPULATED AND CHANGE OF VALUES\n",
    "eye_array = np.eye(3)\n",
    "eye_array = np.eye(3, k=1)\n",
    "eye_array[eye_array == 0] = 2\n",
    "eye_array[eye_array < 2] = 9\n",
    "eye_array[1:] = 3\n",
    "eye_array[1:, :2] = 4\n",
    "#print(eye_array, \"\\n\")\n",
    "sorted_array = np.sort(eye_array, axis=0, kind=\"heapsort\")\n",
    "#also there is \"mergesort\"\n",
    "#print(sorted_array)\n",
    "#THERE ARE 2 DIFF METHODS TO MAKE COPIES OF ARRAYS\n",
    "#1.VIEW 2. COPY\n",
    "my_view = sorted_array.view()\n",
    "my_copy = sorted_array.copy()\n",
    "\n",
    "my_copy[:] = 4\n",
    "my_view = my_view.reshape((3,3,1))\n",
    "print(my_view, \"\\n\")\n",
    "print(sorted_array)\n",
    "\n",
    "#KEYNOTE\n",
    "#the view modify the value and the original array.\n",
    "#the copy made changes but the original array stands\n",
    "#even if we change the view it doesn'tm affect the original array unless we cvhange the value\n",
    "\n",
    "\n",
    "\n",
    "\n",
    "\n",
    "\n"
   ]
  },
  {
   "cell_type": "code",
   "execution_count": 118,
   "id": "4a56bfd3",
   "metadata": {},
   "outputs": [
    {
     "name": "stdout",
     "output_type": "stream",
     "text": [
      "[[2 3 4]\n",
      " [3 4 5]]\n"
     ]
    }
   ],
   "source": [
    "# a_mul = np.array([[1,2,3,1],\n",
    "#                  [4,5,6,1],\n",
    "#                  [7,8,9,1]])\n",
    "\n",
    "# print(a_mul.shape)\n",
    "# print(a_mul.ndim)\n",
    "# print(a_mul.size)\n",
    "# print(a_mul.dtype)\n",
    "\n",
    "# d = {'1': 'A'}\n",
    "\n",
    "# a = np.array([[1,2,3],\n",
    "#              [4, d, 6],\n",
    "#              [7,8,9]], dtype=\"<U2\")\n",
    "\n",
    "# print(a.dtype)\n",
    "# print(type(a[1][0]))\n",
    "\n",
    "# a = np.full((2,3,4), 9)\n",
    "# print(a)\n",
    "\n",
    "\n",
    "# a = np.zeros((10, 5, 2))\n",
    "# print(a)\n",
    "\n",
    "# a = np.empty((2,3,3))\n",
    "# print(a)\n",
    "\n",
    "# x_values = np.arange(0,1000,5)\n",
    "# print(x_values)\n",
    "\n",
    "# x_values = np.linspace(2,100,4)\n",
    "# print(x_values)\n",
    "\n",
    "# print(np.nan)\n",
    "# print(np.inf)\n",
    "\n",
    "# print(np.sqrt(-1))\n",
    "# print(np.array([10]) / 0)\n",
    "#CALCULATIONS USING NUMPY ARRAYS\n",
    "\n",
    "# l1 = [1,2,3,4,5]\n",
    "\n",
    "# l2 = [6,7,8,9,0]\n",
    "\n",
    "# a1 = np.array(l1)\n",
    "# a2 = np.array(l2)\n",
    "\n",
    "# # print(l1 * 5)\n",
    "# # print(a1 + 5)\n",
    "# print( a1 + a2)\n",
    "\n",
    "# a1 = np.array([1,2,3])\n",
    "# a2 = np.array([[1],\n",
    "#               [2]])\n",
    "# print(a1 + a2)\n",
    "\n",
    "a = np.array([[123,],\n",
    "            [4,5,6]])\n",
    "\n",
    "print(np.)"
   ]
  },
  {
   "cell_type": "code",
   "execution_count": null,
   "id": "9ad6840e",
   "metadata": {},
   "outputs": [],
   "source": []
  },
  {
   "cell_type": "markdown",
   "id": "a4b343ea",
   "metadata": {},
   "source": []
  },
  {
   "cell_type": "code",
   "execution_count": null,
   "id": "2e8b2e92",
   "metadata": {},
   "outputs": [],
   "source": []
  }
 ],
 "metadata": {
  "kernelspec": {
   "display_name": "Python 3 (ipykernel)",
   "language": "python",
   "name": "python3"
  },
  "language_info": {
   "codemirror_mode": {
    "name": "ipython",
    "version": 3
   },
   "file_extension": ".py",
   "mimetype": "text/x-python",
   "name": "python",
   "nbconvert_exporter": "python",
   "pygments_lexer": "ipython3",
   "version": "3.9.12"
  }
 },
 "nbformat": 4,
 "nbformat_minor": 5
}
