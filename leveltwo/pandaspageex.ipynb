{
 "cells": [
  {
   "cell_type": "code",
   "execution_count": 24,
   "id": "a7306283",
   "metadata": {},
   "outputs": [
    {
     "name": "stdout",
     "output_type": "stream",
     "text": [
      "calories    420\n",
      "duration     50\n",
      "Name: 0, dtype: int64\n"
     ]
    }
   ],
   "source": [
    "import pandas as pd\n",
    "\n",
    "# print(pd.__version__)\n",
    "\n",
    "# a = [1, 7, 2]\n",
    "\n",
    "# myvar = pd.Series(a)\n",
    "\n",
    "# # print(myvar)\n",
    "# # print(myvar[0])\n",
    "\n",
    "# myvar = pd.Series(a, index = [\"x\", \"y\", \"z\"])\n",
    "# # print(myvar)\n",
    "# print(myvar['y'])\n",
    "\n",
    "# calories = {\"day1\":420, \"day2\": 380, \"day3\": 390}\n",
    "# myvar = pd.Series(calories)\n",
    "# print(myvar)\n",
    "# myvar = pd.Series(calories, index = [\"day1\", \"day2\"])\n",
    "\n",
    "# print(myvar)\n",
    "\n",
    "#NOTE: SERIES IS LIKE A COLUMN,A DATAFRAME IS THE WHOLE TABLE.\n",
    "\n",
    "data = {\n",
    "    \n",
    "    \"calories\": [420, 380, 390],\n",
    "    \n",
    "    \"duration\": [50, 40, 45]\n",
    "}\n",
    "\n",
    "myvar = pd.DataFrame(data)\n",
    "\n",
    "# print(myvar)\n",
    "\n",
    "#load data into a DataFrame object:\n",
    "\n",
    "df = pd.DataFrame(data)\n",
    "\n",
    "# print(df)\n",
    "\n",
    "print(df.loc[0])"
   ]
  },
  {
   "cell_type": "code",
   "execution_count": 11,
   "id": "899ec729",
   "metadata": {},
   "outputs": [],
   "source": [
    "# df = pd.read_csv(\"C:\\\\Users\\\\23470\\\\Desktop\\\\practice\\\\Covid Live.csv\")\n",
    "# df\n"
   ]
  },
  {
   "cell_type": "code",
   "execution_count": null,
   "id": "fe908724",
   "metadata": {},
   "outputs": [],
   "source": []
  },
  {
   "cell_type": "code",
   "execution_count": null,
   "id": "702ca9e4",
   "metadata": {},
   "outputs": [],
   "source": []
  }
 ],
 "metadata": {
  "kernelspec": {
   "display_name": "Python 3 (ipykernel)",
   "language": "python",
   "name": "python3"
  },
  "language_info": {
   "codemirror_mode": {
    "name": "ipython",
    "version": 3
   },
   "file_extension": ".py",
   "mimetype": "text/x-python",
   "name": "python",
   "nbconvert_exporter": "python",
   "pygments_lexer": "ipython3",
   "version": "3.9.12"
  }
 },
 "nbformat": 4,
 "nbformat_minor": 5
}
