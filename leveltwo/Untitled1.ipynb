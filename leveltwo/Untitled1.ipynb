{
 "cells": [
  {
   "cell_type": "code",
   "execution_count": 1,
   "id": "0f01789e",
   "metadata": {},
   "outputs": [],
   "source": [
    "import numpy as np"
   ]
  },
  {
   "cell_type": "code",
   "execution_count": 4,
   "id": "28e63d64",
   "metadata": {},
   "outputs": [
    {
     "data": {
      "text/plain": [
       "array([[2, 9, 2, 2, 0],\n",
       "       [8, 4, 0, 9, 4],\n",
       "       [3, 7, 3, 2, 7],\n",
       "       [0, 7, 7, 6, 0],\n",
       "       [5, 2, 1, 3, 5],\n",
       "       [4, 8, 3, 1, 7]])"
      ]
     },
     "execution_count": 4,
     "metadata": {},
     "output_type": "execute_result"
    }
   ],
   "source": [
    "# x5 = np.random.randint(10, size=(6,5))\n",
    "# x5"
   ]
  },
  {
   "cell_type": "code",
   "execution_count": 5,
   "id": "bd6ba82d",
   "metadata": {},
   "outputs": [
    {
     "data": {
      "text/plain": [
       "array([[5, 1, 0, 7],\n",
       "       [2, 2, 1, 6],\n",
       "       [5, 0, 9, 7]])"
      ]
     },
     "execution_count": 5,
     "metadata": {},
     "output_type": "execute_result"
    }
   ],
   "source": [
    "# x2 = np.random.randint(10, size=(3,4))\n",
    "# x2"
   ]
  },
  {
   "cell_type": "code",
   "execution_count": 12,
   "id": "138b77eb",
   "metadata": {},
   "outputs": [
    {
     "data": {
      "text/plain": [
       "3"
      ]
     },
     "execution_count": 12,
     "metadata": {},
     "output_type": "execute_result"
    }
   ],
   "source": [
    "x3 = np.random.randint(10, size=(4,4,5))\n",
    "# print(x3[0])\n",
    "# print(x3[0][2])\n",
    "# x3[0][2][0]\n",
    "# print(x3)\n",
    "# x3[0,2,1]\n",
    "\n",
    "x3.ndim"
   ]
  },
  {
   "cell_type": "code",
   "execution_count": 13,
   "id": "bb1faacf",
   "metadata": {},
   "outputs": [
    {
     "data": {
      "text/plain": [
       "80"
      ]
     },
     "execution_count": 13,
     "metadata": {},
     "output_type": "execute_result"
    }
   ],
   "source": [
    "x3.size"
   ]
  },
  {
   "cell_type": "code",
   "execution_count": 18,
   "id": "43159af0",
   "metadata": {},
   "outputs": [
    {
     "name": "stdout",
     "output_type": "stream",
     "text": [
      "<class 'numpy.ndarray'>\n",
      "[[[4 9 6 5 7]\n",
      "  [6 0 5 9 7]\n",
      "  [6 8 3 3 8]\n",
      "  [6 6 6 3 6]]\n",
      "\n",
      " [[7 1 0 9 3]\n",
      "  [7 6 1 3 7]\n",
      "  [8 3 4 5 2]\n",
      "  [1 2 4 9 6]]\n",
      "\n",
      " [[3 6 2 0 2]\n",
      "  [0 6 5 2 5]\n",
      "  [2 6 1 5 8]\n",
      "  [6 5 0 7 3]]\n",
      "\n",
      " [[0 9 1 4 4]\n",
      "  [5 7 7 7 9]\n",
      "  [2 8 6 9 8]\n",
      "  [4 6 1 5 2]]]\n"
     ]
    }
   ],
   "source": [
    "x3.nbytes\n",
    "x3.dtype\n",
    "# print(type(x3))\n",
    "# print(x3)"
   ]
  },
  {
   "cell_type": "code",
   "execution_count": 19,
   "id": "9a8163f2",
   "metadata": {},
   "outputs": [
    {
     "data": {
      "text/plain": [
       "4"
      ]
     },
     "execution_count": 19,
     "metadata": {},
     "output_type": "execute_result"
    }
   ],
   "source": [
    "x3.itemsize"
   ]
  },
  {
   "cell_type": "code",
   "execution_count": 20,
   "id": "6a0ccc77",
   "metadata": {},
   "outputs": [
    {
     "data": {
      "text/plain": [
       "80"
      ]
     },
     "execution_count": 20,
     "metadata": {},
     "output_type": "execute_result"
    }
   ],
   "source": [
    "x3.size"
   ]
  },
  {
   "cell_type": "code",
   "execution_count": 22,
   "id": "b564e95c",
   "metadata": {},
   "outputs": [
    {
     "data": {
      "text/plain": [
       "8"
      ]
     },
     "execution_count": 22,
     "metadata": {},
     "output_type": "execute_result"
    }
   ],
   "source": [
    "x1 = ([8, 8, 6, 2, 8, 7])\n",
    "x1[-2]"
   ]
  },
  {
   "cell_type": "code",
   "execution_count": 24,
   "id": "86748f6e",
   "metadata": {},
   "outputs": [
    {
     "data": {
      "text/plain": [
       "[8, 8, 6, 2, 2, 7]"
      ]
     },
     "execution_count": 24,
     "metadata": {},
     "output_type": "execute_result"
    }
   ],
   "source": [
    "x1[4] = 2\n",
    "x1"
   ]
  },
  {
   "cell_type": "code",
   "execution_count": 25,
   "id": "03499e24",
   "metadata": {},
   "outputs": [
    {
     "data": {
      "text/plain": [
       "2"
      ]
     },
     "execution_count": 25,
     "metadata": {},
     "output_type": "execute_result"
    }
   ],
   "source": [
    "x2.ndim"
   ]
  },
  {
   "cell_type": "code",
   "execution_count": 27,
   "id": "6bbd7620",
   "metadata": {},
   "outputs": [
    {
     "data": {
      "text/plain": [
       "3"
      ]
     },
     "execution_count": 27,
     "metadata": {},
     "output_type": "execute_result"
    }
   ],
   "source": [
    "x3.ndim"
   ]
  },
  {
   "cell_type": "code",
   "execution_count": 56,
   "id": "4f4d17c9",
   "metadata": {},
   "outputs": [
    {
     "data": {
      "text/plain": [
       "array([[ 0,  1,  2,  3,  4,  5,  6,  7,  8,  9],\n",
       "       [10, 11, 12, 13, 14, 15, 16, 17, 18, 19],\n",
       "       [20, 21, 22, 23, 24, 25, 26, 27, 28, 29],\n",
       "       [30, 31, 32, 33, 34, 35, 36, 37, 38, 39],\n",
       "       [40, 41, 42, 43, 44, 45, 46, 47, 48, 49]])"
      ]
     },
     "execution_count": 56,
     "metadata": {},
     "output_type": "execute_result"
    }
   ],
   "source": [
    "x= np.arange(50).reshape(5, 10)\n",
    "x"
   ]
  },
  {
   "cell_type": "code",
   "execution_count": 50,
   "id": "602aa1c5",
   "metadata": {},
   "outputs": [
    {
     "data": {
      "text/plain": [
       "2"
      ]
     },
     "execution_count": 50,
     "metadata": {},
     "output_type": "execute_result"
    }
   ],
   "source": [
    "x.ndim"
   ]
  },
  {
   "cell_type": "code",
   "execution_count": 41,
   "id": "defa5c97",
   "metadata": {},
   "outputs": [
    {
     "data": {
      "text/plain": [
       "array([1, 4, 7])"
      ]
     },
     "execution_count": 41,
     "metadata": {},
     "output_type": "execute_result"
    }
   ],
   "source": [
    "x[1::3]"
   ]
  },
  {
   "cell_type": "code",
   "execution_count": 63,
   "id": "90e1dc3c",
   "metadata": {},
   "outputs": [
    {
     "ename": "SyntaxError",
     "evalue": "invalid syntax (1400540464.py, line 18)",
     "output_type": "error",
     "traceback": [
      "\u001b[1;36m  Input \u001b[1;32mIn [63]\u001b[1;36m\u001b[0m\n\u001b[1;33m    print(x)\u001b[0m\n\u001b[1;37m    ^\u001b[0m\n\u001b[1;31mSyntaxError\u001b[0m\u001b[1;31m:\u001b[0m invalid syntax\n"
     ]
    }
   ],
   "source": [
    "x = np.array([[ 0,  1,  2,  3,  4,  5,  6,  7,  8,  9],\n",
    "            [10, 11, 12, 13, 14, 15, 16, 17, 18, 19],\n",
    "           [20, 21, 22, 23, 24, 25, 26, 27, 28, 29],\n",
    "           [30, 31, 32, 33, 34, 35, 36, 37, 38, 39],\n",
    "           [40, 41, 42, 43, 44, 45, 46, 47, 48, 49],\n",
    "           [50, 51, 52, 53, 54, 55, 56, 57, 58, 59],\n",
    "           [60, 61, 62, 63, 64, 65, 66, 67, 68, 69],\n",
    "           [70, 71, 72, 73, 74, 75, 76, 77, 78, 79],\n",
    "           [80, 81, 82, 83, 84, 85, 86, 87, 88, 89],\n",
    "           [90, 91, 92, 93, 94, 95, 96, 97, 98, 99]]\n",
    "        \n",
    "            ([[ 0,  1,  2,  3,  4,  5,  6,  7,  8,  9],\n",
    "           [10, 11, 12, 13, 14, 15, 16, 17, 18, 19],\n",
    "           [20, 21, 22, 23, 24, 25, 26, 27, 28, 29],\n",
    "           [30, 31, 32, 33, 34, 35, 36, 37, 38, 39],\n",
    "           [40, 41, 42, 43, 44, 45, 46, 47, 48, 49]])\n",
    "             \n"
   ]
  },
  {
   "cell_type": "code",
   "execution_count": null,
   "id": "9798b786",
   "metadata": {},
   "outputs": [],
   "source": [
    "x = np.random.randint()"
   ]
  }
 ],
 "metadata": {
  "kernelspec": {
   "display_name": "Python 3 (ipykernel)",
   "language": "python",
   "name": "python3"
  },
  "language_info": {
   "codemirror_mode": {
    "name": "ipython",
    "version": 3
   },
   "file_extension": ".py",
   "mimetype": "text/x-python",
   "name": "python",
   "nbconvert_exporter": "python",
   "pygments_lexer": "ipython3",
   "version": "3.9.12"
  }
 },
 "nbformat": 4,
 "nbformat_minor": 5
}
