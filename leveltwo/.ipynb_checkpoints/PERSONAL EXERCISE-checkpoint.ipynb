{
 "cells": [
  {
   "cell_type": "code",
   "execution_count": 1,
   "id": "f3aa532b",
   "metadata": {},
   "outputs": [],
   "source": [
    "import numpy as np"
   ]
  },
  {
   "cell_type": "code",
   "execution_count": 80,
   "id": "1b225a2f",
   "metadata": {},
   "outputs": [
    {
     "name": "stdout",
     "output_type": "stream",
     "text": [
      "[4 5]\n",
      "[11 12]\n",
      "[16 17]\n",
      "[24 25]\n",
      "[29 30]\n"
     ]
    }
   ],
   "source": [
    "a = np.array([[ 1,  2,  3,  4,  5],\n",
    "             [ 6 , 7,  8,  9, 10],\n",
    "             [11, 12, 13, 14, 15],\n",
    "             [16, 17, 18, 19, 20],\n",
    "             [21, 22, 23, 24, 25],\n",
    "             [26, 27, 28, 29, 30]])\n",
    "\n",
    "\n",
    "# print(a.reshape((6, 5)))\n",
    "\n",
    "# print(a[0, 3:])\n",
    "# print(a[0, 3:])\n",
    "# print(a[2:4, 0:1])\n",
    "print(a[0, 3:])\n",
    "print(a[2,:2])\n",
    "print(a[3, :2])\n",
    "print(a[4, 3:])\n",
    "print(a[5, 3:])\n",
    "\n"
   ]
  },
  {
   "cell_type": "code",
   "execution_count": null,
   "id": "ce620e5b",
   "metadata": {},
   "outputs": [],
   "source": []
  },
  {
   "cell_type": "code",
   "execution_count": null,
   "id": "774ffc20",
   "metadata": {},
   "outputs": [],
   "source": []
  },
  {
   "cell_type": "code",
   "execution_count": null,
   "id": "ae9d3378",
   "metadata": {},
   "outputs": [],
   "source": []
  }
 ],
 "metadata": {
  "kernelspec": {
   "display_name": "Python 3 (ipykernel)",
   "language": "python",
   "name": "python3"
  },
  "language_info": {
   "codemirror_mode": {
    "name": "ipython",
    "version": 3
   },
   "file_extension": ".py",
   "mimetype": "text/x-python",
   "name": "python",
   "nbconvert_exporter": "python",
   "pygments_lexer": "ipython3",
   "version": "3.9.12"
  }
 },
 "nbformat": 4,
 "nbformat_minor": 5
}
