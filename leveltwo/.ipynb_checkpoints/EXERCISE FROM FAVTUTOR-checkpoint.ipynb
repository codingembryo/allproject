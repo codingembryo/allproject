{
 "cells": [
  {
   "cell_type": "code",
   "execution_count": 1,
   "id": "b704ce6c",
   "metadata": {},
   "outputs": [],
   "source": [
    "import numpy as np"
   ]
  },
  {
   "cell_type": "code",
   "execution_count": 2,
   "id": "e3081d84",
   "metadata": {},
   "outputs": [
    {
     "name": "stdout",
     "output_type": "stream",
     "text": [
      "[[11 13 15]\n",
      " [17 19 21]]\n"
     ]
    }
   ],
   "source": [
    "# EXERCISE 1\n",
    "a = np.array([[1,2,3],\n",
    "            [4,5,6]])\n",
    "\n",
    "b = np.array([[10,11,12],\n",
    "            [13,14,15]])\n",
    "\n",
    "c = a + b\n",
    "\n",
    "print(c)"
   ]
  },
  {
   "cell_type": "code",
   "execution_count": 3,
   "id": "28f77138",
   "metadata": {},
   "outputs": [
    {
     "name": "stdout",
     "output_type": "stream",
     "text": [
      "[[ 2  4  6]\n",
      " [ 8 10 12]]\n"
     ]
    }
   ],
   "source": [
    "# EXERCISE TWO\n",
    "a = np.array([[1,2,3],\n",
    "             [4,5,6]])\n",
    "\n",
    "b = 2*a #multiplying the numpy array a(matrix) by 2\n",
    "\n",
    "print(b)\n"
   ]
  },
  {
   "cell_type": "code",
   "execution_count": 8,
   "id": "949dac95",
   "metadata": {},
   "outputs": [
    {
     "name": "stdout",
     "output_type": "stream",
     "text": [
      "[[1. 0. 0. 0.]\n",
      " [0. 1. 0. 0.]\n",
      " [0. 0. 1. 0.]\n",
      " [0. 0. 0. 1.]]\n"
     ]
    }
   ],
   "source": [
    "# EXERCISE 3\n",
    "i = np.eye(4)\n",
    "print(i)"
   ]
  },
  {
   "cell_type": "code",
   "execution_count": 10,
   "id": "f15c8ea1",
   "metadata": {},
   "outputs": [
    {
     "name": "stdout",
     "output_type": "stream",
     "text": [
      "[[[ 0  1  2]\n",
      "  [ 3  4  5]\n",
      "  [ 6  7  8]]\n",
      "\n",
      " [[ 9 10 11]\n",
      "  [12 13 14]\n",
      "  [15 16 17]]\n",
      "\n",
      " [[18 19 20]\n",
      "  [21 22 23]\n",
      "  [24 25 26]]]\n"
     ]
    }
   ],
   "source": [
    "# EXERCISE 4\n",
    "# USING FOR LOOP FOR AN ARRAY\n",
    "# ARRAY RE-DIMENSIONING\n",
    "a = np.array([x for x in range(27)])\n",
    "\n",
    "o = a.reshape((3,3,3))\n",
    "\n",
    "print(o)"
   ]
  },
  {
   "cell_type": "code",
   "execution_count": 12,
   "id": "e154bdb4",
   "metadata": {},
   "outputs": [
    {
     "name": "stdout",
     "output_type": "stream",
     "text": [
      "[[2 3 1]\n",
      " [4 2 1]]\n"
     ]
    }
   ],
   "source": [
    "# exercise 5\n",
    "# Array datatype conversion\n",
    "# Convert all the elements of a numpy array from float to integer datatype\n",
    "\n",
    "a = np.array([[2.5,3.8,1.5],\n",
    "             [4.7,2.9,1.56]])\n",
    "\n",
    "o = a.astype('int')\n",
    "\n",
    "print(o)\n"
   ]
  },
  {
   "cell_type": "code",
   "execution_count": 13,
   "id": "c76cd30a",
   "metadata": {},
   "outputs": [
    {
     "name": "stdout",
     "output_type": "stream",
     "text": [
      "[[ True False False]\n",
      " [ True  True  True]\n",
      " [False False False]]\n"
     ]
    }
   ],
   "source": [
    "#EXERCISE 6 - Obtaining Boolean Array from Binary Array\n",
    "# Convert a binary numpy array (containing only 0s and 1s) to a boolean numpy array\n",
    "\n",
    "\n",
    "a = np.array([[1,0,0],\n",
    "             [1,1,1],\n",
    "             [0,0,0]])\n",
    "\n",
    "o = a.astype('bool')\n",
    "\n",
    "print(o)"
   ]
  },
  {
   "cell_type": "code",
   "execution_count": null,
   "id": "681e87ff",
   "metadata": {},
   "outputs": [],
   "source": [
    "# EXERCISE 7 - Horizontal Stacking of Numpy Arrays\n",
    "\n",
    "# Stack 2 numpy arrays horizontally i.e., 2 arrays having the same 1st dimension (number of rows in 2D arrays)\n"
   ]
  }
 ],
 "metadata": {
  "kernelspec": {
   "display_name": "Python 3 (ipykernel)",
   "language": "python",
   "name": "python3"
  },
  "language_info": {
   "codemirror_mode": {
    "name": "ipython",
    "version": 3
   },
   "file_extension": ".py",
   "mimetype": "text/x-python",
   "name": "python",
   "nbconvert_exporter": "python",
   "pygments_lexer": "ipython3",
   "version": "3.9.12"
  }
 },
 "nbformat": 4,
 "nbformat_minor": 5
}
