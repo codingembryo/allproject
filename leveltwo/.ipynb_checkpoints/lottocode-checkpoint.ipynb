{
 "cells": [
  {
   "cell_type": "code",
   "execution_count": 2,
   "id": "8a02c97e",
   "metadata": {},
   "outputs": [
    {
     "name": "stdout",
     "output_type": "stream",
     "text": [
      "The list is:\n",
      "The randomly selected element: 6, 30, 43\n",
      "The randomly selected element: 5\n"
     ]
    }
   ],
   "source": [
    "import random\n",
    "\n",
    "# myList = [1, 2, 3, 45, 6, 8, 78, 23, 56, 7686, 123]\n",
    "myList = [1, 2, 3, 4, 5, 6, 7, 8, 9, 10,11, 12, 13, 14, 15, 16, 17, 18, 19, 20, 21, 22, 23, 24, 25, 26, 27, 28, 29, 30, 31,32,\n",
    "         33, 34, 35, 36, 37, 38, 39, 40, 41, 42, 43, 44, 45, 46, 47, 48, 49]\n",
    "print(\"The list is:\")\n",
    "# print(myList)\n",
    "x = random.choice(myList)\n",
    "y = random.choice(myList)\n",
    "z = random.choice(myList)\n",
    "# random_element = random.choice([x,y,z])\n",
    "print(f\"The randomly selected element: {x}, {y}, {z}\" )\n",
    "myList = [1, 2, 3, 4, 5, 6, 7, 8, 9, 10,11, 12, 13, 14, 15, 16, 17, 18, 19, 20, 21, 22, 23, 24, 25, 26, 27, 28, 29, 30, 31,32,\n",
    "         33, 34, 35, 36, 37, 38, 39, 40, 41, 42, 43, 44, 45, 46, 47, 48, 49]\n",
    "\n",
    "x = random.choice(myList)\n",
    "\n",
    "print(f\"The randomly selected element: {x}\")"
   ]
  },
  {
   "cell_type": "code",
   "execution_count": null,
   "id": "cd920b81",
   "metadata": {},
   "outputs": [],
   "source": []
  },
  {
   "cell_type": "code",
   "execution_count": null,
   "id": "bf79d08b",
   "metadata": {},
   "outputs": [],
   "source": []
  },
  {
   "cell_type": "code",
   "execution_count": null,
   "id": "f0172735",
   "metadata": {},
   "outputs": [],
   "source": []
  }
 ],
 "metadata": {
  "kernelspec": {
   "display_name": "Python 3 (ipykernel)",
   "language": "python",
   "name": "python3"
  },
  "language_info": {
   "codemirror_mode": {
    "name": "ipython",
    "version": 3
   },
   "file_extension": ".py",
   "mimetype": "text/x-python",
   "name": "python",
   "nbconvert_exporter": "python",
   "pygments_lexer": "ipython3",
   "version": "3.9.12"
  }
 },
 "nbformat": 4,
 "nbformat_minor": 5
}
