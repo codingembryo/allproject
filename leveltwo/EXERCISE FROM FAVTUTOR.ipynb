{
 "cells": [
  {
   "cell_type": "code",
   "execution_count": 1,
   "id": "904c82a2",
   "metadata": {},
   "outputs": [],
   "source": [
    "import numpy as np"
   ]
  },
  {
   "cell_type": "code",
   "execution_count": 2,
   "id": "23742d4b",
   "metadata": {},
   "outputs": [
    {
     "name": "stdout",
     "output_type": "stream",
     "text": [
      "[[11 13 15]\n",
      " [17 19 21]]\n"
     ]
    }
   ],
   "source": [
    "# EXERCISE 1\n",
    "a = np.array([[1,2,3],\n",
    "            [4,5,6]])\n",
    "\n",
    "b = np.array([[10,11,12],\n",
    "            [13,14,15]])\n",
    "\n",
    "c = a + b\n",
    "\n",
    "print(c)"
   ]
  },
  {
   "cell_type": "code",
   "execution_count": 3,
   "id": "310d804c",
   "metadata": {},
   "outputs": [
    {
     "name": "stdout",
     "output_type": "stream",
     "text": [
      "[[ 2  4  6]\n",
      " [ 8 10 12]]\n"
     ]
    }
   ],
   "source": [
    "# EXERCISE TWO\n",
    "a = np.array([[1,2,3],\n",
    "             [4,5,6]])\n",
    "\n",
    "b = 2*a #multiplying the numpy array a(matrix) by 2\n",
    "\n",
    "print(b)\n"
   ]
  },
  {
   "cell_type": "code",
   "execution_count": 8,
   "id": "276b4b89",
   "metadata": {},
   "outputs": [
    {
     "name": "stdout",
     "output_type": "stream",
     "text": [
      "[[1. 0. 0. 0.]\n",
      " [0. 1. 0. 0.]\n",
      " [0. 0. 1. 0.]\n",
      " [0. 0. 0. 1.]]\n"
     ]
    }
   ],
   "source": [
    "# EXERCISE 3\n",
    "i = np.eye(4)\n",
    "print(i)"
   ]
  },
  {
   "cell_type": "code",
   "execution_count": 10,
   "id": "28f33b97",
   "metadata": {},
   "outputs": [
    {
     "name": "stdout",
     "output_type": "stream",
     "text": [
      "[[[ 0  1  2]\n",
      "  [ 3  4  5]\n",
      "  [ 6  7  8]]\n",
      "\n",
      " [[ 9 10 11]\n",
      "  [12 13 14]\n",
      "  [15 16 17]]\n",
      "\n",
      " [[18 19 20]\n",
      "  [21 22 23]\n",
      "  [24 25 26]]]\n"
     ]
    }
   ],
   "source": [
    "# EXERCISE 4\n",
    "# USING FOR LOOP FOR AN ARRAY\n",
    "# ARRAY RE-DIMENSIONING\n",
    "a = np.array([x for x in range(27)])\n",
    "\n",
    "o = a.reshape((3,3,3))\n",
    "\n",
    "print(o)"
   ]
  },
  {
   "cell_type": "code",
   "execution_count": 12,
   "id": "a80d4b91",
   "metadata": {},
   "outputs": [
    {
     "name": "stdout",
     "output_type": "stream",
     "text": [
      "[[2 3 1]\n",
      " [4 2 1]]\n"
     ]
    }
   ],
   "source": [
    "# exercise 5\n",
    "# Array datatype conversion\n",
    "# Convert all the elements of a numpy array from float to integer datatype\n",
    "\n",
    "a = np.array([[2.5,3.8,1.5],\n",
    "             [4.7,2.9,1.56]])\n",
    "\n",
    "o = a.astype('int')\n",
    "\n",
    "print(o)\n"
   ]
  },
  {
   "cell_type": "code",
   "execution_count": 13,
   "id": "3685d5c6",
   "metadata": {},
   "outputs": [
    {
     "name": "stdout",
     "output_type": "stream",
     "text": [
      "[[ True False False]\n",
      " [ True  True  True]\n",
      " [False False False]]\n"
     ]
    }
   ],
   "source": [
    "#EXERCISE 6 - Obtaining Boolean Array from Binary Array\n",
    "# Convert a binary numpy array (containing only 0s and 1s) to a boolean numpy array\n",
    "\n",
    "\n",
    "a = np.array([[1,0,0],\n",
    "             [1,1,1],\n",
    "             [0,0,0]])\n",
    "\n",
    "o = a.astype('bool')\n",
    "\n",
    "print(o)"
   ]
  },
  {
   "cell_type": "code",
   "execution_count": 15,
   "id": "e8a2a7d9",
   "metadata": {},
   "outputs": [
    {
     "name": "stdout",
     "output_type": "stream",
     "text": [
      "[[ 1  2  3  7  8  9]\n",
      " [ 4  5  6 10 11 12]]\n"
     ]
    }
   ],
   "source": [
    "# EXERCISE 7 - Horizontal Stacking of Numpy Arrays\n",
    "\n",
    "# Stack 2 numpy arrays horizontally i.e., 2 arrays having the same 1st dimension (number of rows in 2D arrays)\n",
    "\n",
    "a1 = np.array([[1,2,3],\n",
    "              [4,5,6],])\n",
    "\n",
    "a2 = np.array([[7,8,9],\n",
    "              [10,11,12]])\n",
    "\n",
    "o = np.hstack((a1, a2))\n",
    "\n",
    "print(o)\n"
   ]
  },
  {
   "cell_type": "code",
   "execution_count": 17,
   "id": "f4b658b1",
   "metadata": {},
   "outputs": [
    {
     "name": "stdout",
     "output_type": "stream",
     "text": [
      "[[ 1  2]\n",
      " [ 3  4]\n",
      " [ 5  6]\n",
      " [ 7  8]\n",
      " [ 9 10]\n",
      " [10 11]]\n"
     ]
    }
   ],
   "source": [
    "# EXERCISE 8 - Vertically Stacking of Numpy Arrays\n",
    "# Stack 2 numpy arrays vertically i.e., 2 arrays having the same last dimension (number of columns in 2D arrays)\n",
    "\n",
    "a1 = np.array([[1,2],\n",
    "              [3,4],\n",
    "              [5,6]])\n",
    "\n",
    "a2 = np.array([[7,8],\n",
    "              [9,10],\n",
    "              [10,11]])\n",
    "\n",
    "o = np.vstack((a1, a2))\n",
    "\n",
    "print(o)"
   ]
  },
  {
   "cell_type": "code",
   "execution_count": 19,
   "id": "db5573a9",
   "metadata": {},
   "outputs": [
    {
     "name": "stdout",
     "output_type": "stream",
     "text": [
      "[  0   2   4   6   8  10  12  14  16  18  20  22  24  26  28  30  32  34\n",
      "  36  38  40  42  44  46  48  50  52  54  56  58  60  62  64  66  68  70\n",
      "  72  74  76  78  80  82  84  86  88  90  92  94  96  98 100]\n"
     ]
    }
   ],
   "source": [
    "# EXERCISE 9 - Custom Sequence Generation\n",
    "#Generate a sequence of nujmbers in the form of a numpy array from 0 to \n",
    "# 100 with gaps of 2 number e.g 0,2,4...\n",
    "\n",
    "\n",
    "# solution\n",
    "\n",
    "list_of_numbers = [x for x in range(0, 101, 2)]\n",
    "\n",
    "o = np.array(list_of_numbers)\n",
    "\n",
    "print(o)\n",
    "\n",
    "# 2ND SOLUTION\n",
    "\n",
    "# o = np.arange(0, 101, 2)"
   ]
  },
  {
   "cell_type": "code",
   "execution_count": 20,
   "id": "e29e5cb6",
   "metadata": {},
   "outputs": [
    {
     "name": "stdout",
     "output_type": "stream",
     "text": [
      "(array([0, 3, 4], dtype=int64),)\n"
     ]
    }
   ],
   "source": [
    "#EXERCISE 10 - Getting the positions \n",
    "#(indexes) where elements of 2 numpy arrays match\n",
    "\n",
    "#From 2 numpy arrays, extract the indexes in which the\n",
    "#elements in the 2 arrays match\n",
    "\n",
    "\n",
    "a = np.array([1,2,3,4,5])\n",
    "\n",
    "b = np.array([1,3,2,4,5])\n",
    "\n",
    "print(np.where(a == b))"
   ]
  },
  {
   "cell_type": "code",
   "execution_count": 29,
   "id": "dc65342a",
   "metadata": {},
   "outputs": [
    {
     "name": "stdout",
     "output_type": "stream",
     "text": [
      "[  0.  25.  50.  75. 100.]\n"
     ]
    }
   ],
   "source": [
    "#EXERCISE 11 - Generation of given count of equally spaced\n",
    "#numbers within a specified range\n",
    "#Output a sequence of equally\n",
    "#gapped 5 numbers in the range 0 to 100 (both inclusive)\n",
    "\n",
    "o = np.linspace(0,100,5)\n",
    "\n",
    "print(o)"
   ]
  },
  {
   "cell_type": "code",
   "execution_count": 33,
   "id": "8fea5286",
   "metadata": {},
   "outputs": [
    {
     "name": "stdout",
     "output_type": "stream",
     "text": [
      "[[5. 5. 5.]\n",
      " [5. 5. 5.]]\n"
     ]
    }
   ],
   "source": [
    "#EXERCISE 12 - Matrix Generation with one particular value\n",
    "\n",
    "#Output a matrix (numpy array) of dimension 2-by-3 with \n",
    "#each and every value equal to 5\n",
    "\n",
    "# SOLUTION\n",
    "\n",
    "# o = np.full((2, 3), 5)\n",
    "\n",
    "# print(o)\n",
    "\n",
    "# SOLUTION TWO\n",
    "\n",
    "a = np.ones((2, 3))\n",
    "\n",
    "o = 5*a\n",
    "\n",
    "print(o)\n"
   ]
  },
  {
   "cell_type": "code",
   "execution_count": 38,
   "id": "4417dcef",
   "metadata": {},
   "outputs": [
    {
     "name": "stdout",
     "output_type": "stream",
     "text": [
      "[[1 2 3 1 2 3 1 2 3 1 2 3 1 2 3 1 2 3 1 2 3 1 2 3 1 2 3 1 2 3]\n",
      " [4 5 6 4 5 6 4 5 6 4 5 6 4 5 6 4 5 6 4 5 6 4 5 6 4 5 6 4 5 6]]\n"
     ]
    }
   ],
   "source": [
    "#EXERCISE 13 - Array Generation by repeatition of a \n",
    "#small array across each dimension\n",
    "\n",
    "a = np.array([[1,2,3],\n",
    "             [4,5,6]])\n",
    "\n",
    "o = np.tile(a, 10)\n",
    "\n",
    "print(o)"
   ]
  },
  {
   "cell_type": "code",
   "execution_count": 41,
   "id": "ba6c868d",
   "metadata": {},
   "outputs": [
    {
     "name": "stdout",
     "output_type": "stream",
     "text": [
      "[[2 2 6 1 3]\n",
      " [9 6 1 0 1]\n",
      " [9 0 0 9 3]\n",
      " [4 0 0 4 1]\n",
      " [7 3 2 4 7]]\n"
     ]
    }
   ],
   "source": [
    "#EXERCISE 14 - Array Generation of random integers within a \n",
    "#specified range\n",
    "#Output a 5-by-5 array of random integers \n",
    "#between 0 (inclusive) and 10 (exclusive)\n",
    "\n",
    "np.random.seed(123) #setting the seed\n",
    "\n",
    "o = np.random.randint(0, 10, size = (5,5))\n",
    "\n",
    "print(o)"
   ]
  },
  {
   "cell_type": "code",
   "execution_count": 42,
   "id": "2c2d8c67",
   "metadata": {},
   "outputs": [
    {
     "name": "stdout",
     "output_type": "stream",
     "text": [
      "[[-1.0856306   0.99734545  0.2829785 ]\n",
      " [-1.50629471 -0.57860025  1.65143654]\n",
      " [-2.42667924 -0.42891263  1.26593626]]\n"
     ]
    }
   ],
   "source": [
    " #EXERCISE 15 - Array Generation of random \n",
    "#numbers following normal distribution\n",
    "#Output a 3-by-3 array of random numbers \n",
    "#following normal distribution\n",
    "\n",
    "# Sample Solution\n",
    "\n",
    "np.random.seed(123)# setting the seed\n",
    "\n",
    "o = np.random.normal(size = (3,3))\n",
    "\n",
    "print(o)"
   ]
  },
  {
   "cell_type": "code",
   "execution_count": 46,
   "id": "9b559798",
   "metadata": {},
   "outputs": [
    {
     "name": "stdout",
     "output_type": "stream",
     "text": [
      "[[ 36  42  48]\n",
      " [ 81  96 111]\n",
      " [126 150 174]]\n"
     ]
    }
   ],
   "source": [
    "# EXERCISE 16 - Matrix Multiplication\n",
    "# Given 2 numpy arrays as matrices, output the result \n",
    "# of multiplying the 2 matrices (as a numpy array)\n",
    "\n",
    "# Sample Solution\n",
    "\n",
    "a = np.array([[1,2,3],\n",
    "             [4,5,6],\n",
    "             [7,8,9]])\n",
    "\n",
    "b = np.array([[2,3,4],\n",
    "             [5,6,7,],\n",
    "             [8,9,10]])\n",
    "\n",
    "o = a@b\n",
    "\n",
    "print(o)\n",
    "\n",
    "# SECOND SOLN\n",
    "\n",
    "# a = np.array([[1,2,3],\n",
    "#              [4,5,6],\n",
    "#              [7,8,9,]])\n",
    "\n",
    "# b = np.array([[2,3,4],\n",
    "#              [5,6,7],\n",
    "#              [8,9,10]])\n",
    "\n",
    "# o = np.matmul(a, b)\n",
    "\n",
    "# print(o)"
   ]
  },
  {
   "cell_type": "code",
   "execution_count": 47,
   "id": "ae2c5b37",
   "metadata": {},
   "outputs": [
    {
     "name": "stdout",
     "output_type": "stream",
     "text": [
      "[[1 4 7]\n",
      " [2 5 8]\n",
      " [3 6 9]]\n"
     ]
    }
   ],
   "source": [
    "# EXERCISE 17 - Matrix Transpose\n",
    "# Output the transpose of a matrix (as numpy array)\n",
    "\n",
    "a = np.array([[1,2,3],\n",
    "             [4,5,6],\n",
    "             [7,8,9]])\n",
    "\n",
    "a_transpose = a.T\n",
    "\n",
    "print(a_transpose)"
   ]
  },
  {
   "cell_type": "code",
   "execution_count": 48,
   "id": "d8001bd5",
   "metadata": {},
   "outputs": [
    {
     "name": "stdout",
     "output_type": "stream",
     "text": [
      "Sine of the given array of angles =  [ 0.00159265  0.99999968 -0.0031853 ]\n"
     ]
    }
   ],
   "source": [
    "# EXERCISE 18 - Sine of an Angle (in radians)?\n",
    "# Calculate the sine of an array of angles (in radians) using NumPy\n",
    "\n",
    "# Sample Solution\n",
    "\n",
    "angles = np.array([3.14, 3.14/2, 6.28])\n",
    "\n",
    "sine_of_angles = np.sin(angles)\n",
    "\n",
    "print('Sine of the given array of angles = ', sine_of_angles)"
   ]
  },
  {
   "cell_type": "code",
   "execution_count": 50,
   "id": "ce6c9fb9",
   "metadata": {},
   "outputs": [
    {
     "name": "stdout",
     "output_type": "stream",
     "text": [
      "Cosine of the given array of angles =  [-9.99998732e-01  7.96326711e-04  9.99994927e-01]\n"
     ]
    }
   ],
   "source": [
    "# EXERCISE 19 - Cosine Similarity\n",
    "# Calculate the cosine similarity of 2 vectors (as numpy arrays)\n",
    "\n",
    "angles = np.array([3.14, 3.14/2, 6.28])\n",
    "\n",
    "cosine_of_angles = np.cos(angles)\n",
    "\n",
    "print('Cosine of the given array of angles = ',cosine_of_angles)"
   ]
  },
  {
   "cell_type": "code",
   "execution_count": 51,
   "id": "4b45b926",
   "metadata": {},
   "outputs": [
    {
     "name": "stdout",
     "output_type": "stream",
     "text": [
      "[1 3 2 0]\n"
     ]
    }
   ],
   "source": [
    "# EXERCISE 20 - Generating the array element indexes such that \n",
    "# the array elements appear in ascending order\n",
    "\n",
    "array = np.array([10,1,5,2])\n",
    "\n",
    "indexes = np.argsort(array)\n",
    "\n",
    "print(indexes)"
   ]
  },
  {
   "cell_type": "code",
   "execution_count": null,
   "id": "165e4da4",
   "metadata": {},
   "outputs": [],
   "source": []
  }
 ],
 "metadata": {
  "kernelspec": {
   "display_name": "Python 3 (ipykernel)",
   "language": "python",
   "name": "python3"
  },
  "language_info": {
   "codemirror_mode": {
    "name": "ipython",
    "version": 3
   },
   "file_extension": ".py",
   "mimetype": "text/x-python",
   "name": "python",
   "nbconvert_exporter": "python",
   "pygments_lexer": "ipython3",
   "version": "3.9.12"
  }
 },
 "nbformat": 4,
 "nbformat_minor": 5
}
