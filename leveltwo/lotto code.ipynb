{
 "cells": [
  {
   "cell_type": "code",
   "execution_count": 2,
   "id": "82714670",
   "metadata": {},
   "outputs": [
    {
     "name": "stdout",
     "output_type": "stream",
     "text": [
      "The list is:\n",
      "The randomly selected element: 17, 6, 18\n"
     ]
    }
   ],
   "source": [
    "import random\n",
    "\n",
    "# myList = [1, 2, 3, 45, 6, 8, 78, 23, 56, 7686, 123]\n",
    "myList = [1, 2, 3, 4, 5, 6, 7, 8, 9, 10,11, 12, 13, 14, 15, 16, 17, 18, 19, 20, 21, 22, 23, 24, 25, 26, 27, 28, 29, 30, 31,32,\n",
    "         33, 34, 35, 36, 37, 38, 39, 40, 41, 42, 43, 44, 45, 46, 47, 48, 49]\n",
    "\n",
    "print(\"The list is:\")\n",
    "# print(myList)\n",
    "p = random.choice(myList)\n",
    "q = random.choice(myList)\n",
    "r = random.choice(myList)\n",
    "x = random.choice(myList)\n",
    "y = random.choice(myList)\n",
    "z = random.choice(myList)\n",
    "# random_element = random.choice([x,y,z])\n",
    "print(f\"The randomly selected element: {x}, {y}, {z}\" )"
   ]
  },
  {
   "cell_type": "code",
   "execution_count": 4,
   "id": "8157270d",
   "metadata": {},
   "outputs": [
    {
     "name": "stdout",
     "output_type": "stream",
     "text": [
      "The randomly selected element: 46\n"
     ]
    }
   ],
   "source": [
    "myList = [1, 2, 3, 4, 5, 6, 7, 8, 9, 10,11, 12, 13, 14, 15, 16, 17, 18, 19, 20, 21, 22, 23, 24, 25, 26, 27, 28, 29, 30, 31,32,\n",
    "         33, 34, 35, 36, 37, 38, 39, 40, 41, 42, 43, 44, 45, 46, 47, 48, 49]\n",
    "\n",
    "x = random.choice(myList)\n",
    "\n",
    "print(f\"The randomly selected element: {x}\")"
   ]
  },
  {
   "cell_type": "code",
   "execution_count": null,
   "id": "b5d316b8",
   "metadata": {},
   "outputs": [],
   "source": []
  },
  {
   "cell_type": "code",
   "execution_count": null,
   "id": "967c76e9",
   "metadata": {},
   "outputs": [],
   "source": []
  }
 ],
 "metadata": {
  "kernelspec": {
   "display_name": "Python 3 (ipykernel)",
   "language": "python",
   "name": "python3"
  },
  "language_info": {
   "codemirror_mode": {
    "name": "ipython",
    "version": 3
   },
   "file_extension": ".py",
   "mimetype": "text/x-python",
   "name": "python",
   "nbconvert_exporter": "python",
   "pygments_lexer": "ipython3",
   "version": "3.9.12"
  }
 },
 "nbformat": 4,
 "nbformat_minor": 5
}
